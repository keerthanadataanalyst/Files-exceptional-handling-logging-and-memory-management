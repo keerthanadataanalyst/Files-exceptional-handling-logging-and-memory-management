{
 "cells": [
  {
   "cell_type": "code",
   "execution_count": 1,
   "id": "26d7e9be-4316-4cf2-a63a-a932d68e8deb",
   "metadata": {},
   "outputs": [],
   "source": [
    "#1. How can you open a file for writing in Python and write a string to it?"
   ]
  },
  {
   "cell_type": "code",
   "execution_count": null,
   "id": "6080583a-7726-4f88-9470-d98132b65a33",
   "metadata": {},
   "outputs": [],
   "source": [
    "# A. There are two types to write a string\n",
    "# - by using with\n",
    "# - by manually open and close the file"
   ]
  },
  {
   "cell_type": "code",
   "execution_count": 3,
   "id": "7dcbc6e3-a39d-4924-9713-2d2733168f3b",
   "metadata": {},
   "outputs": [],
   "source": [
    "#by using \"with\"\n",
    "\n",
    "with open(\"hifile.txt\", \"w\") as file:\n",
    "    file.write(\"Hello, World!\") #writing a string\n",
    "# File is automatically closed when exiting the 'with' block\n"
   ]
  },
  {
   "cell_type": "code",
   "execution_count": 5,
   "id": "303f7dd8-fb2b-483a-8790-369f8710c499",
   "metadata": {},
   "outputs": [],
   "source": [
    "# by using open and close\n",
    "\n",
    "file = open(\"hifile1\", \"w\")\n",
    "file.write(\"Hello, World!\")\n",
    "file.close()\n",
    "#we have to use close function when not using  'with' block"
   ]
  },
  {
   "cell_type": "code",
   "execution_count": null,
   "id": "577758b2-5ba2-4945-89e7-4d9634021f5e",
   "metadata": {},
   "outputs": [],
   "source": [
    "#2. Write a Python program to read the contents of a file and print each line?"
   ]
  },
  {
   "cell_type": "code",
   "execution_count": 15,
   "id": "539f7e8f-c13a-4718-8722-ab3abe074b14",
   "metadata": {},
   "outputs": [
    {
     "name": "stdout",
     "output_type": "stream",
     "text": [
      "Hello, World!\n"
     ]
    }
   ],
   "source": [
    "with open(\"hifile.txt\", \"r\") as file:\n",
    "    for line in file:\n",
    "        print(line)"
   ]
  },
  {
   "cell_type": "code",
   "execution_count": null,
   "id": "d7071292-06d5-4792-a7cf-5c5ebb83c3b5",
   "metadata": {},
   "outputs": [],
   "source": [
    "#3. How would you handle a case where the file doesn't exist while trying to open it for reading"
   ]
  },
  {
   "cell_type": "code",
   "execution_count": 62,
   "id": "fe76bb2f-cb6e-48c4-9f10-3a6ffbc2f3e7",
   "metadata": {},
   "outputs": [
    {
     "name": "stdout",
     "output_type": "stream",
     "text": [
      "[Errno 2] No such file or directory: 'example.txt'\n"
     ]
    }
   ],
   "source": [
    "try:\n",
    "    with open(\"example.txt\", \"r\") as file: #Attempt to open the file for reading\n",
    "        for line in file:\n",
    "            print(line)\n",
    "except Exception as e:\n",
    "    print(e)\n",
    "     # Handling the case where the file doesn't exist\n"
   ]
  },
  {
   "cell_type": "code",
   "execution_count": 44,
   "id": "c7d3e871-ec17-4aa8-95a1-e81531336a8f",
   "metadata": {},
   "outputs": [],
   "source": [
    "#4. Write a Python script that reads from one file and writes its content to another file"
   ]
  },
  {
   "cell_type": "code",
   "execution_count": 27,
   "id": "70a74f96-8d8b-44df-ba34-e5db368d5c44",
   "metadata": {},
   "outputs": [],
   "source": [
    "# Open the source file in read mode and the destination file in write mode\n",
    "with open(\"hifile.txt\", \"r\") as source_file:\n",
    "    with open(\"destination.txt\", \"w\") as destination_file:\n",
    "        # Read content from the source file and write it to the destination file\n",
    "        content = source_file.read()\n",
    "        destination_file.write(content)"
   ]
  },
  {
   "cell_type": "code",
   "execution_count": 31,
   "id": "ed1b9b3c-9e9e-400e-b188-78c0390d9b76",
   "metadata": {},
   "outputs": [
    {
     "name": "stdout",
     "output_type": "stream",
     "text": [
      "Hello, World!\n"
     ]
    }
   ],
   "source": [
    "with open(\"destination.txt\", \"r\") as file:\n",
    "    for line in file:\n",
    "        print(line)"
   ]
  },
  {
   "cell_type": "code",
   "execution_count": null,
   "id": "8d0197b0-5f93-44e7-8ac7-d56553e16f70",
   "metadata": {},
   "outputs": [],
   "source": [
    "#5. How would you catch and handle division by zero error in Python"
   ]
  },
  {
   "cell_type": "code",
   "execution_count": 48,
   "id": "6def596f-748b-408a-9589-ec79974cd0d1",
   "metadata": {},
   "outputs": [
    {
     "name": "stdout",
     "output_type": "stream",
     "text": [
      "1.5\n",
      "my name is keerthi\n",
      "until now it is good\n"
     ]
    },
    {
     "ename": "ZeroDivisionError",
     "evalue": "division by zero",
     "output_type": "error",
     "traceback": [
      "\u001b[0;31m---------------------------------------------------------------------------\u001b[0m",
      "\u001b[0;31mZeroDivisionError\u001b[0m                         Traceback (most recent call last)",
      "Cell \u001b[0;32mIn[48], line 4\u001b[0m\n\u001b[1;32m      2\u001b[0m \u001b[38;5;28mprint\u001b[39m(\u001b[38;5;124m\"\u001b[39m\u001b[38;5;124mmy name is keerthi\u001b[39m\u001b[38;5;124m\"\u001b[39m)\n\u001b[1;32m      3\u001b[0m \u001b[38;5;28mprint\u001b[39m (\u001b[38;5;124m\"\u001b[39m\u001b[38;5;124muntil now it is good\u001b[39m\u001b[38;5;124m\"\u001b[39m)\n\u001b[0;32m----> 4\u001b[0m \u001b[38;5;28mprint\u001b[39m(\u001b[38;5;241m6\u001b[39m\u001b[38;5;241m/\u001b[39m\u001b[38;5;241m0\u001b[39m)\n\u001b[1;32m      5\u001b[0m \u001b[38;5;28mprint\u001b[39m(\u001b[38;5;124m\"\u001b[39m\u001b[38;5;124mhi,how r u\u001b[39m\u001b[38;5;124m\"\u001b[39m)\n\u001b[1;32m      6\u001b[0m \u001b[38;5;28mprint\u001b[39m(\u001b[38;5;241m3\u001b[39m\u001b[38;5;241m/\u001b[39m\u001b[38;5;241m5\u001b[39m)\n",
      "\u001b[0;31mZeroDivisionError\u001b[0m: division by zero"
     ]
    }
   ],
   "source": [
    "print(3/2)\n",
    "print(\"my name is keerthi\")\n",
    "print (\"until now it is good\")\n",
    "print(6/0)\n",
    "print(\"hi,how r u\")\n",
    "print(3/5) #it stopped aafter 6/0, its okay to show error but after that even though they are not havaing any prblm, they also stopped"
   ]
  },
  {
   "cell_type": "code",
   "execution_count": 56,
   "id": "7575797a-06dc-4269-b539-c47a14a06d4e",
   "metadata": {},
   "outputs": [
    {
     "name": "stdout",
     "output_type": "stream",
     "text": [
      "1.5\n",
      "my name is keerthi\n",
      "until now it is good\n",
      "division by zero\n",
      "hi,how r u\n",
      "0.6\n"
     ]
    }
   ],
   "source": [
    "#handling the zero error\n",
    "\n",
    "print(3/2)\n",
    "print(\"my name is keerthi\")\n",
    "print (\"until now it is good\")\n",
    "try:\n",
    "    print(6/0)\n",
    "except Exception as e: \n",
    "    print(e)\n",
    "print(\"hi,how r u\")\n",
    "print(3/5)"
   ]
  },
  {
   "cell_type": "code",
   "execution_count": null,
   "id": "338e5dff-c551-43a2-ab7c-d804a958d80a",
   "metadata": {},
   "outputs": [],
   "source": [
    "#8. Write a program to handle a file opening error using exception handling?"
   ]
  },
  {
   "cell_type": "code",
   "execution_count": 71,
   "id": "2e1ce3ae-323b-4a88-a7a6-db92df0fdc49",
   "metadata": {},
   "outputs": [
    {
     "name": "stdout",
     "output_type": "stream",
     "text": [
      "Error: The file 'example.txt' does not exist.\n"
     ]
    }
   ],
   "source": [
    "#A.\n",
    "try:\n",
    "    f = open (\"example52.txt\", \"r\")\n",
    "#as file is not there file not found \n",
    "except FileNotFoundError:\n",
    "    # Handle the case where the file doesn't exist\n",
    "    print(\"Error: The file 'example.txt' does not exist.\")"
   ]
  },
  {
   "cell_type": "code",
   "execution_count": null,
   "id": "137f337f-25bd-4dd1-aece-12e083169a5f",
   "metadata": {},
   "outputs": [],
   "source": [
    "# 9. How can you read a file line by line and store its content in a list in Python?"
   ]
  },
  {
   "cell_type": "code",
   "execution_count": 111,
   "id": "cd750b8c-d74d-44bb-92b6-960c341877bb",
   "metadata": {},
   "outputs": [
    {
     "data": {
      "text/plain": [
       "13"
      ]
     },
     "execution_count": 111,
     "metadata": {},
     "output_type": "execute_result"
    }
   ],
   "source": [
    "#example\n",
    "f = open(\"filek.txt\", \"w\")\n",
    "f.write(\"Hi How are you?\\n\")\n",
    "f.write(\"I am good,thankyou\\n\")\n",
    "f.write(\"what is your hobby\\n\")\n",
    "f.write(\"I love music\\n\")"
   ]
  },
  {
   "cell_type": "code",
   "execution_count": 113,
   "id": "91dcd6a3-017a-4d10-adf6-3d9e41cba954",
   "metadata": {},
   "outputs": [
    {
     "name": "stdout",
     "output_type": "stream",
     "text": [
      "['Hi How are you?', 'I am good,thankyou', 'what is your hobby', 'I love music']\n"
     ]
    }
   ],
   "source": [
    "with open(\"filek.txt\", \"r\") as file:\n",
    "    lines = file.readlines()\n",
    "    lines = [line.strip() for line in lines]\n",
    "    print(lines)"
   ]
  },
  {
   "cell_type": "code",
   "execution_count": null,
   "id": "85e3008f-85bf-4e83-91cb-3c05e9b8aee9",
   "metadata": {},
   "outputs": [],
   "source": [
    "#10. How can you append data to an existing file in Python?"
   ]
  },
  {
   "cell_type": "code",
   "execution_count": 117,
   "id": "497fd30e-6477-435f-aebe-db8b00d9f06b",
   "metadata": {},
   "outputs": [
    {
     "data": {
      "text/plain": [
       "5"
      ]
     },
     "execution_count": 117,
     "metadata": {},
     "output_type": "execute_result"
    }
   ],
   "source": [
    "#first create a file\n",
    "f = open(\"nature_foods.txt\", \"w\")\n",
    "f.write(\"vegetables\\n\")\n",
    "f.write(\"fruits\\n\")\n",
    "f.write(\"milk\\n\")\n",
    "f.write(\"meat\\n\")"
   ]
  },
  {
   "cell_type": "code",
   "execution_count": 119,
   "id": "a9ffa036-16c0-4f0f-9d96-fc9e07f63e14",
   "metadata": {},
   "outputs": [],
   "source": [
    "f.close()"
   ]
  },
  {
   "cell_type": "code",
   "execution_count": 121,
   "id": "0a95d8e3-69b1-4bda-aa21-cbb8e52993d3",
   "metadata": {},
   "outputs": [
    {
     "data": {
      "text/plain": [
       "True"
      ]
     },
     "execution_count": 121,
     "metadata": {},
     "output_type": "execute_result"
    }
   ],
   "source": [
    "f.closed"
   ]
  },
  {
   "cell_type": "code",
   "execution_count": 140,
   "id": "fb0f5576-88c4-409a-8ffd-bda8c08c79e5",
   "metadata": {},
   "outputs": [],
   "source": [
    "with open(\"nature_foods.txt\", \"a\") as file:\n",
    "    file.write(\"dates\\n\")  # Appending \"dates\" with a newline"
   ]
  },
  {
   "cell_type": "code",
   "execution_count": 142,
   "id": "bd610abd-be5f-4388-9313-69adda5144d5",
   "metadata": {},
   "outputs": [
    {
     "name": "stdout",
     "output_type": "stream",
     "text": [
      "vegetables\n",
      "fruits\n",
      "milk\n",
      "meat\n",
      "dates\n",
      "\n"
     ]
    }
   ],
   "source": [
    "with open(\"nature_foods.txt\", \"r\") as file:\n",
    "    print(file.read())\n",
    "    "
   ]
  },
  {
   "cell_type": "code",
   "execution_count": null,
   "id": "f58785ab-f22c-4ba6-af00-e449feee947c",
   "metadata": {},
   "outputs": [],
   "source": [
    "#11. Write a Python program that uses a try-except block to handle an error when attempting to access a dictionary key that doesn't existF"
   ]
  },
  {
   "cell_type": "code",
   "execution_count": 147,
   "id": "0f086ecd-a920-4da5-b797-a70533147979",
   "metadata": {},
   "outputs": [
    {
     "name": "stdout",
     "output_type": "stream",
     "text": [
      "this is my first line of code\n",
      "0.6\n",
      "{'name': 'Ajay', 'class': 'DA'}\n"
     ]
    },
    {
     "ename": "KeyError",
     "evalue": "'age'",
     "output_type": "error",
     "traceback": [
      "\u001b[0;31m---------------------------------------------------------------------------\u001b[0m",
      "\u001b[0;31mKeyError\u001b[0m                                  Traceback (most recent call last)",
      "Cell \u001b[0;32mIn[147], line 7\u001b[0m\n\u001b[1;32m      5\u001b[0m d \u001b[38;5;241m=\u001b[39m {\u001b[38;5;124m\"\u001b[39m\u001b[38;5;124mname\u001b[39m\u001b[38;5;124m\"\u001b[39m:\u001b[38;5;124m\"\u001b[39m\u001b[38;5;124mAjay\u001b[39m\u001b[38;5;124m\"\u001b[39m, \u001b[38;5;124m\"\u001b[39m\u001b[38;5;124mclass\u001b[39m\u001b[38;5;124m\"\u001b[39m : \u001b[38;5;124m\"\u001b[39m\u001b[38;5;124mDA\u001b[39m\u001b[38;5;124m\"\u001b[39m}\n\u001b[1;32m      6\u001b[0m \u001b[38;5;28mprint\u001b[39m(d)\n\u001b[0;32m----> 7\u001b[0m \u001b[38;5;28mprint\u001b[39m(d[\u001b[38;5;124m\"\u001b[39m\u001b[38;5;124mage\u001b[39m\u001b[38;5;124m\"\u001b[39m]) \u001b[38;5;66;03m#as it is error, from here onwards code stopped woring\u001b[39;00m\n\u001b[1;32m      8\u001b[0m \u001b[38;5;28mprint\u001b[39m(\u001b[38;5;124m\"\u001b[39m\u001b[38;5;124mthis is last line of code\u001b[39m\u001b[38;5;124m\"\u001b[39m)\n",
      "\u001b[0;31mKeyError\u001b[0m: 'age'"
     ]
    }
   ],
   "source": [
    "#example - without using try-except\n",
    "\n",
    "print(\"this is my first line of code\")\n",
    "print(3/5)\n",
    "d = {\"name\":\"Ajay\", \"class\" : \"DA\"}\n",
    "print(d)\n",
    "print(d[\"age\"]) #as it is error, from here onwards code stopped woring\n",
    "print(\"this is last line of code\")"
   ]
  },
  {
   "cell_type": "code",
   "execution_count": 155,
   "id": "e0e0f0cc-5675-4e79-aefa-21093bfbf45f",
   "metadata": {},
   "outputs": [
    {
     "name": "stdout",
     "output_type": "stream",
     "text": [
      "this is my first line of code\n",
      "0.6\n",
      "{'name': 'Ajay', 'class': 'DA'}\n",
      "'age'\n",
      "this is last line of code\n"
     ]
    }
   ],
   "source": [
    "#example - using try-except\n",
    "\n",
    "print(\"this is my first line of code\")\n",
    "print(3/5)\n",
    "d = {\"name\":\"Ajay\", \"class\" : \"DA\"}\n",
    "print(d)\n",
    "try:\n",
    "    print(d[\"age\"]) \n",
    "except Exception as e:\n",
    "    print(e)\n",
    "print(\"this is last line of code\") #hence it handled"
   ]
  },
  {
   "cell_type": "code",
   "execution_count": null,
   "id": "23f619f3-6f6b-4287-8d93-3c074196006b",
   "metadata": {},
   "outputs": [],
   "source": []
  }
 ],
 "metadata": {
  "kernelspec": {
   "display_name": "Python 3 (ipykernel)",
   "language": "python",
   "name": "python3"
  },
  "language_info": {
   "codemirror_mode": {
    "name": "ipython",
    "version": 3
   },
   "file_extension": ".py",
   "mimetype": "text/x-python",
   "name": "python",
   "nbconvert_exporter": "python",
   "pygments_lexer": "ipython3",
   "version": "3.12.7"
  }
 },
 "nbformat": 4,
 "nbformat_minor": 5
}
