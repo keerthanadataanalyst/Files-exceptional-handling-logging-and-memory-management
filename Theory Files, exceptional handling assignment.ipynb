{
 "cells": [
  {
   "cell_type": "code",
   "execution_count": null,
   "id": "e8b6bb1f-0691-4834-9059-6b8884b7b4c3",
   "metadata": {},
   "outputs": [],
   "source": [
    "# 2.What is exception handling in Python?"
   ]
  },
  {
   "cell_type": "code",
   "execution_count": null,
   "id": "beb61029-c20c-4733-9bce-ddcbd46768b7",
   "metadata": {},
   "outputs": [],
   "source": [
    "#A. Exception handling in Python allows to handle runtime errors (or exceptions) gracefully, without crashing the program. \n",
    "#It enables the program to deal with unexpected situations and continue executing rather than abruptly stopping."
   ]
  },
  {
   "cell_type": "code",
   "execution_count": 2,
   "id": "6edcd64a-8271-4fc4-8515-37221d3cb0ef",
   "metadata": {},
   "outputs": [
    {
     "name": "stdout",
     "output_type": "stream",
     "text": [
      "1.5\n",
      "my name is keerthi\n",
      "until now it is good\n"
     ]
    },
    {
     "ename": "ZeroDivisionError",
     "evalue": "division by zero",
     "output_type": "error",
     "traceback": [
      "\u001b[0;31m---------------------------------------------------------------------------\u001b[0m",
      "\u001b[0;31mZeroDivisionError\u001b[0m                         Traceback (most recent call last)",
      "Cell \u001b[0;32mIn[2], line 4\u001b[0m\n\u001b[1;32m      2\u001b[0m \u001b[38;5;28mprint\u001b[39m(\u001b[38;5;124m\"\u001b[39m\u001b[38;5;124mmy name is keerthi\u001b[39m\u001b[38;5;124m\"\u001b[39m)\n\u001b[1;32m      3\u001b[0m \u001b[38;5;28mprint\u001b[39m (\u001b[38;5;124m\"\u001b[39m\u001b[38;5;124muntil now it is good\u001b[39m\u001b[38;5;124m\"\u001b[39m)\n\u001b[0;32m----> 4\u001b[0m \u001b[38;5;28mprint\u001b[39m(\u001b[38;5;241m6\u001b[39m\u001b[38;5;241m/\u001b[39m\u001b[38;5;241m0\u001b[39m)\n\u001b[1;32m      5\u001b[0m \u001b[38;5;28mprint\u001b[39m(\u001b[38;5;124m\"\u001b[39m\u001b[38;5;124mhi,how r u\u001b[39m\u001b[38;5;124m\"\u001b[39m)\n\u001b[1;32m      6\u001b[0m \u001b[38;5;28mprint\u001b[39m(\u001b[38;5;241m3\u001b[39m\u001b[38;5;241m/\u001b[39m\u001b[38;5;241m5\u001b[39m)\n",
      "\u001b[0;31mZeroDivisionError\u001b[0m: division by zero"
     ]
    }
   ],
   "source": [
    "# Example 1\n",
    "print(3/2)\n",
    "print(\"my name is keerthi\")\n",
    "print (\"until now it is good\")\n",
    "print(6/0)\n",
    "print(\"hi,how r u\")\n",
    "print(3/5) #it stopped aafter 6/0, its okay to show error but after that even though they are not havaing any prblm, they also stopped"
   ]
  },
  {
   "cell_type": "code",
   "execution_count": null,
   "id": "5d96c4dd-0787-4a81-aee0-55a2f6f915c7",
   "metadata": {},
   "outputs": [],
   "source": [
    "#This happened because of Exception:\n",
    "#An exception is an event or error that disrupts the normal flow of the program. \n",
    "#It typically occurs due to issues like invalid input, dividing by zero, accessing a non-existent file, etc."
   ]
  },
  {
   "cell_type": "code",
   "execution_count": 5,
   "id": "f43ac96b-df00-4dc8-9141-0c928a845e5d",
   "metadata": {},
   "outputs": [
    {
     "name": "stdout",
     "output_type": "stream",
     "text": [
      "1.5\n",
      "my name is keerthi\n",
      "until now it is good\n",
      "division by zero\n",
      "hi,how r u\n",
      "0.6\n"
     ]
    }
   ],
   "source": [
    "#we can solve this gracefully by using try and except blocks\n",
    "print(3/2)\n",
    "print(\"my name is keerthi\")\n",
    "print (\"until now it is good\")\n",
    "try:\n",
    "    print(6/0)\n",
    "except Exception as e:\n",
    "    print(e)\n",
    "print(\"hi,how r u\")\n",
    "print(3/5)\n"
   ]
  },
  {
   "cell_type": "code",
   "execution_count": null,
   "id": "117b6dcf-be65-4bfb-9d20-49ab93e096c5",
   "metadata": {},
   "outputs": [],
   "source": [
    "#hence the program ran smoothly"
   ]
  },
  {
   "cell_type": "code",
   "execution_count": 7,
   "id": "46738757-e88a-4e4d-9180-6f50850cd0e6",
   "metadata": {},
   "outputs": [],
   "source": [
    "#3. What is the purpose of the finally block in exception handling?"
   ]
  },
  {
   "cell_type": "code",
   "execution_count": null,
   "id": "dc09814d-84c4-471b-bfb6-44ca417bf664",
   "metadata": {},
   "outputs": [],
   "source": [
    "# A.The finally block in exception handling is used to define code that will always be executed,\n",
    "# regardless of whether an exception was raised or not in the try block."
   ]
  },
  {
   "cell_type": "code",
   "execution_count": 10,
   "id": "8cc88f4d-c01a-4f99-a75d-8c5a5c804308",
   "metadata": {},
   "outputs": [
    {
     "name": "stdout",
     "output_type": "stream",
     "text": [
      "Error: The file 'example.txt' does not exist.\n",
      "this will be executed always\n"
     ]
    }
   ],
   "source": [
    "#example\n",
    "\n",
    "try:\n",
    "    f = open (\"example52.txt\", \"r\")\n",
    "#as file is not there file not found \n",
    "except FileNotFoundError:\n",
    "    # Handle the case where the file doesn't exist\n",
    "    print(\"Error: The file 'example.txt' does not exist.\")\n",
    "else:\n",
    "    f.close()\n",
    "    print (9+8)\n",
    "    print(\"keerthi\") \n",
    "finally:\n",
    "    print(\"this will be executed always\") "
   ]
  },
  {
   "cell_type": "code",
   "execution_count": null,
   "id": "4ee81df8-fdab-4641-8022-30ac1f9c566f",
   "metadata": {},
   "outputs": [],
   "source": [
    "#it is helpful for the cleanup actions like closing files/releasing locks etc scenarios"
   ]
  },
  {
   "cell_type": "code",
   "execution_count": null,
   "id": "fc7498b1-00b7-4917-95d7-fc1d690d2506",
   "metadata": {},
   "outputs": [],
   "source": [
    "#7.  What is the purpose of the with statement when handling files in Python0"
   ]
  },
  {
   "cell_type": "code",
   "execution_count": null,
   "id": "08e43294-7e54-4dad-b9ca-dd70437c7d2a",
   "metadata": {},
   "outputs": [],
   "source": [
    "#A. The with statement helps to simplify the code by automatically opening and closing the file."
   ]
  },
  {
   "cell_type": "code",
   "execution_count": 15,
   "id": "8022777f-f01b-449f-bcc1-53b5cf695921",
   "metadata": {},
   "outputs": [],
   "source": [
    "#example with 'with' statement\n",
    "\n",
    "with open(\"keerthi.txt\", \"w\") as k:\n",
    "    k.write(\"i like painting\")"
   ]
  },
  {
   "cell_type": "code",
   "execution_count": 19,
   "id": "f337d283-32a4-4f96-8cdb-d5ce81b072ea",
   "metadata": {},
   "outputs": [
    {
     "name": "stdout",
     "output_type": "stream",
     "text": [
      "i like painting\n"
     ]
    }
   ],
   "source": [
    "with open(\"keerthi.txt\", \"r\") as k:\n",
    "    print(k.read())"
   ]
  },
  {
   "cell_type": "code",
   "execution_count": null,
   "id": "7ca6f348-4403-4a71-8b91-43d3de15c8cd",
   "metadata": {},
   "outputs": [],
   "source": [
    "#example without using with statement"
   ]
  },
  {
   "cell_type": "code",
   "execution_count": 25,
   "id": "c141b50c-301e-4eb7-8aa7-0dc4aad6f697",
   "metadata": {},
   "outputs": [
    {
     "data": {
      "text/plain": [
       "15"
      ]
     },
     "execution_count": 25,
     "metadata": {},
     "output_type": "execute_result"
    }
   ],
   "source": [
    "f = open(\"keerthi2.txt\", \"w\")\n",
    "f.write(\"I like painting\") #15 is the size of the file"
   ]
  },
  {
   "cell_type": "code",
   "execution_count": 29,
   "id": "8721bae4-c295-4639-9109-2c4a1b5a5e6b",
   "metadata": {},
   "outputs": [
    {
     "data": {
      "text/plain": [
       "'I like painting'"
      ]
     },
     "execution_count": 29,
     "metadata": {},
     "output_type": "execute_result"
    }
   ],
   "source": [
    "f = open(\"keerthi2.txt\", \"r\")\n",
    "f.read() "
   ]
  },
  {
   "cell_type": "code",
   "execution_count": 34,
   "id": "2a4524be-f858-4a49-82f6-1049b4b00667",
   "metadata": {},
   "outputs": [
    {
     "data": {
      "text/plain": [
       "False"
      ]
     },
     "execution_count": 34,
     "metadata": {},
     "output_type": "execute_result"
    }
   ],
   "source": [
    "f.closed"
   ]
  },
  {
   "cell_type": "code",
   "execution_count": 36,
   "id": "9b2fbfb8-ec03-4451-b93b-d6decf4e2529",
   "metadata": {},
   "outputs": [],
   "source": [
    "f.close()"
   ]
  },
  {
   "cell_type": "code",
   "execution_count": 41,
   "id": "330bdcb1-7b10-4571-8594-d6c74935ebb3",
   "metadata": {},
   "outputs": [
    {
     "data": {
      "text/plain": [
       "True"
      ]
     },
     "execution_count": 41,
     "metadata": {},
     "output_type": "execute_result"
    }
   ],
   "source": [
    "f.closed #we have to manually open and close the file"
   ]
  },
  {
   "cell_type": "code",
   "execution_count": null,
   "id": "7ef3550b-3528-4d57-b6fb-c10018bfe920",
   "metadata": {},
   "outputs": [],
   "source": [
    "# here with with, we can open and close explicitly\n",
    "# with statement ensure the file is closed properly\n",
    "# after the code is executed\n",
    "# this with statement helps to free up system resources \n",
    "# and avoid data corruption"
   ]
  },
  {
   "cell_type": "code",
   "execution_count": null,
   "id": "9195cd79-7aa7-4672-b3b5-05e448a01502",
   "metadata": {},
   "outputs": [],
   "source": [
    "# 12. What are the basic steps involved in exception handling in Python?"
   ]
  },
  {
   "cell_type": "code",
   "execution_count": 48,
   "id": "b7505ecc-2040-410b-804b-680f7eb5f8cb",
   "metadata": {},
   "outputs": [],
   "source": [
    "#A. The basic steps involved in exception handling in Python are as follows:\n",
    "\n",
    "# 1. Writing a try Block:\n",
    "# The first step is to write the code that might raise an exception inside a try block. \n",
    "# This is the part of the code where exceptions are expected to occur."
   ]
  },
  {
   "cell_type": "code",
   "execution_count": 54,
   "id": "5dcdbe18-9ab5-4e7d-b045-ffa0c834bc67",
   "metadata": {},
   "outputs": [
    {
     "data": {
      "text/plain": [
       "'\\ntry:\\n    # Code that may raise an exception\\n    x = 5 / 0  # This will raise a ZeroDivisionError\\n'"
      ]
     },
     "execution_count": 54,
     "metadata": {},
     "output_type": "execute_result"
    }
   ],
   "source": [
    "'''\n",
    "try:\n",
    "    # Code that may raise an exception\n",
    "    x = 5 / 0  # This will raise a ZeroDivisionError\n",
    "'''"
   ]
  },
  {
   "cell_type": "code",
   "execution_count": null,
   "id": "ca7fea74-8944-45d3-814b-9f6767188e45",
   "metadata": {},
   "outputs": [],
   "source": [
    "# 2. Handling Exceptions with except:\n",
    "# If an exception occurs in the try block, the code execution moves to the except block,\n",
    "# where the error will be handled. \n",
    "# if known we can mention the type of exception to catch (e.g., ZeroDivisionError, ValueError, etc.) or else we can mention as \"Exception\" itself\n",
    "# If you don't specify the type of exception, the except block will catch any exception."
   ]
  },
  {
   "cell_type": "code",
   "execution_count": 68,
   "id": "68ec6930-e88f-403b-b228-19fca89cf553",
   "metadata": {},
   "outputs": [
    {
     "name": "stdout",
     "output_type": "stream",
     "text": [
      "division by zero\n"
     ]
    }
   ],
   "source": [
    "try:\n",
    "    x = 5/0\n",
    "except Exception as e:\n",
    "    print(e)"
   ]
  },
  {
   "cell_type": "code",
   "execution_count": null,
   "id": "954b8630-6ecf-4c69-acc9-7c822dfae1fc",
   "metadata": {},
   "outputs": [],
   "source": [
    "# 3. Using else block :\n",
    "# The else block is optional. It runs only if no exception occurs in the try block."
   ]
  },
  {
   "cell_type": "code",
   "execution_count": 72,
   "id": "41a3aa2a-9800-4e6b-9796-172b80ae746c",
   "metadata": {},
   "outputs": [
    {
     "name": "stdout",
     "output_type": "stream",
     "text": [
      "Division was successful!\n"
     ]
    }
   ],
   "source": [
    "#example 1\n",
    "try:\n",
    "    x = 5 / 2\n",
    "except Exception as e:\n",
    "    print(e)\n",
    "else:\n",
    "    print(\"Division was successful!\")\n"
   ]
  },
  {
   "cell_type": "code",
   "execution_count": 74,
   "id": "79a07482-0b22-4abc-9537-c894a39910a9",
   "metadata": {},
   "outputs": [
    {
     "name": "stdout",
     "output_type": "stream",
     "text": [
      "division by zero\n"
     ]
    }
   ],
   "source": [
    "#example 2\n",
    "try:\n",
    "    x = 5 / 0\n",
    "except Exception as e:\n",
    "    print(e)\n",
    "else:\n",
    "    print(\"Division was successful!\") \n",
    "#here else statement was not passed because there is an exception state at try because of zero divison error"
   ]
  },
  {
   "cell_type": "code",
   "execution_count": null,
   "id": "3c2b4f4b-11f5-45f9-9f4e-e2dbf30bcd6c",
   "metadata": {},
   "outputs": [],
   "source": [
    "#4. Finally block\n",
    "#The finally block is also optional. \n",
    "#It is always executed, regardless of whether an exception occurred or not. \n",
    "# This is typically used for clean-up actions (like closing files, releasing resources, etc.)."
   ]
  },
  {
   "cell_type": "code",
   "execution_count": 76,
   "id": "a4a642d3-8669-45a3-9b3b-dd2dad2fe9d2",
   "metadata": {},
   "outputs": [
    {
     "name": "stdout",
     "output_type": "stream",
     "text": [
      "This block will always execute.\n"
     ]
    }
   ],
   "source": [
    "#example\n",
    "try:\n",
    "    x = 5 / 2\n",
    "except ZeroDivisionError:\n",
    "    print(\"You can't divide by zero!\")\n",
    "finally:\n",
    "    print(\"This block will always execute.\")\n",
    "#irrespective of the situation, it will be executed"
   ]
  },
  {
   "cell_type": "code",
   "execution_count": null,
   "id": "a5a35b08-6559-469c-b27d-af1360d7daf4",
   "metadata": {},
   "outputs": [],
   "source": [
    "# 14. What is the role of try and except in exception handling?"
   ]
  },
  {
   "cell_type": "code",
   "execution_count": null,
   "id": "38ea4e4d-17e5-4f00-9f82-b79f7c87a42d",
   "metadata": {},
   "outputs": [],
   "source": [
    "#A. Role of try and exception blocks\n",
    "\n",
    "# 1. Role of a try Block:\n",
    "# The first step is to write the code that might raise an exception inside a try block. \n",
    "# This is the part of the code where exceptions are expected to occur."
   ]
  },
  {
   "cell_type": "code",
   "execution_count": null,
   "id": "57252940-2654-4d99-ac2f-ecc5cdf2d385",
   "metadata": {},
   "outputs": [],
   "source": [
    "# 2. Role of Except Block:\n",
    "# If an exception occurs in the try block, the code execution moves to the except block,\n",
    "# where the error will be handled. \n",
    "# if known we can mention the type of exception to catch (e.g., ZeroDivisionError, ValueError, etc.) or else we can mention as \"Exception\" itself\n",
    "# If you don't specify the type of exception, the except block will catch any exception."
   ]
  },
  {
   "cell_type": "code",
   "execution_count": 79,
   "id": "8248745c-adac-4319-abd6-ac18639ac696",
   "metadata": {},
   "outputs": [
    {
     "name": "stdout",
     "output_type": "stream",
     "text": [
      "Error: The file 'example.txt' does not exist.\n"
     ]
    }
   ],
   "source": [
    "#example\n",
    "try:\n",
    "    f = open (\"example52.txt\", \"r\")\n",
    "#as file is not there file not found \n",
    "except FileNotFoundError:\n",
    "    # Handle the case where the file doesn't exist\n",
    "    print(\"Error: The file 'example.txt' does not exist.\")"
   ]
  },
  {
   "cell_type": "code",
   "execution_count": null,
   "id": "9718ed5a-f036-4ae2-ac6e-7d217310e25f",
   "metadata": {},
   "outputs": [],
   "source": [
    "#16.  What is the purpose of the else block in exception handling?"
   ]
  },
  {
   "cell_type": "code",
   "execution_count": null,
   "id": "0f08ddb2-bc56-4221-839e-110d90d943dd",
   "metadata": {},
   "outputs": [],
   "source": [
    "# Using else block :\n",
    "# The else block is optional. It runs only if no exception occurs in the try block."
   ]
  },
  {
   "cell_type": "code",
   "execution_count": 81,
   "id": "b0e84ddb-8610-4794-91f3-e449289c460a",
   "metadata": {},
   "outputs": [
    {
     "name": "stdout",
     "output_type": "stream",
     "text": [
      "division by zero\n"
     ]
    }
   ],
   "source": [
    "try:\n",
    "    x = 10 / 0\n",
    "except Exception as e:\n",
    "    print(e)\n",
    "else:\n",
    "    print(\"Division was successful!\") "
   ]
  },
  {
   "cell_type": "code",
   "execution_count": null,
   "id": "3af342df-a97c-448d-ad52-4ae167c019c5",
   "metadata": {},
   "outputs": [],
   "source": [
    "# 19. What is the importance of closing a file in Python? "
   ]
  },
  {
   "cell_type": "code",
   "execution_count": null,
   "id": "920ee754-e6a0-4a78-b25e-8ff5d0c6ea62",
   "metadata": {},
   "outputs": [],
   "source": [
    "# Closing a file in Python is an important step in file handling. \n",
    "# It ensures that resources are released properly and that the file is in a consistent state. \n",
    "# The close() method is used to close a file explicitly, though Python provides mechanisms to handle file closing automatically (e.g., using the with statement)."
   ]
  },
  {
   "cell_type": "code",
   "execution_count": null,
   "id": "833f0f01-f0bd-47cc-909d-aa4aa5920068",
   "metadata": {},
   "outputs": [],
   "source": [
    "# Importance of Closing a File:\n",
    "\n",
    "# It prevents Data Loss\n",
    "# It might result in corrupted \n",
    "# It ensures File Integrity\n",
    "# In some operating systems, an open file is locked and cannot be accessed by other processes. \n",
    "# Closing the file removes the lock and allows other programs to read or write to it.\n",
    "# It prevents Bugs and Undefined Behavior."
   ]
  },
  {
   "cell_type": "code",
   "execution_count": 83,
   "id": "d67ed3b3-ec0a-47ad-b0ee-4c1bca672ec7",
   "metadata": {},
   "outputs": [],
   "source": [
    "#example with 'with' statement\n",
    "\n",
    "with open(\"example.txt\", \"w\") as k:\n",
    "    k.write(\"Hello world\")"
   ]
  },
  {
   "cell_type": "code",
   "execution_count": 85,
   "id": "11adb497-d4c1-4109-a135-3934613d3470",
   "metadata": {},
   "outputs": [
    {
     "data": {
      "text/plain": [
       "True"
      ]
     },
     "execution_count": 85,
     "metadata": {},
     "output_type": "execute_result"
    }
   ],
   "source": [
    "k.closed # it will be closed explicitly"
   ]
  },
  {
   "cell_type": "code",
   "execution_count": 87,
   "id": "d899906e-4ba8-4a1e-9e62-2842d8cdca4f",
   "metadata": {},
   "outputs": [
    {
     "data": {
      "text/plain": [
       "11"
      ]
     },
     "execution_count": 87,
     "metadata": {},
     "output_type": "execute_result"
    }
   ],
   "source": [
    "#without with\n",
    "f = open(\"example2.txt\", \"w\")\n",
    "f.write(\"hello world\") "
   ]
  },
  {
   "cell_type": "code",
   "execution_count": 91,
   "id": "e9ff06bd-e940-4914-9636-f576bf8b75d6",
   "metadata": {},
   "outputs": [
    {
     "data": {
      "text/plain": [
       "False"
      ]
     },
     "execution_count": 91,
     "metadata": {},
     "output_type": "execute_result"
    }
   ],
   "source": [
    "f.closed"
   ]
  },
  {
   "cell_type": "code",
   "execution_count": 93,
   "id": "8faa0f85-e193-4827-bb91-3bdf46304a22",
   "metadata": {},
   "outputs": [],
   "source": [
    "f.close()"
   ]
  },
  {
   "cell_type": "code",
   "execution_count": 97,
   "id": "a82a4f5c-a935-45fb-ac8e-92699aeaf376",
   "metadata": {},
   "outputs": [
    {
     "data": {
      "text/plain": [
       "True"
      ]
     },
     "execution_count": 97,
     "metadata": {},
     "output_type": "execute_result"
    }
   ],
   "source": [
    "f.closed # we have to close it"
   ]
  },
  {
   "cell_type": "code",
   "execution_count": null,
   "id": "a066c10e-640c-4080-9097-5e3ff02d489f",
   "metadata": {},
   "outputs": [],
   "source": [
    "# 20. What is the difference between file.read() and file.readline() in Python? "
   ]
  },
  {
   "cell_type": "code",
   "execution_count": 120,
   "id": "24ca2839-4bf7-442c-8ef3-c38abfba46b9",
   "metadata": {},
   "outputs": [
    {
     "data": {
      "text/plain": [
       "13"
      ]
     },
     "execution_count": 120,
     "metadata": {},
     "output_type": "execute_result"
    }
   ],
   "source": [
    "#example\n",
    "f = open(\"file.txt\", \"w\")\n",
    "f.write(\"my name is keerthana\\n\")\n",
    "f.write(\"I am happy women\\n\")\n",
    "f.write(\"I love playing cricket\\n\")\n",
    "f.write(\"I love music\\n\")"
   ]
  },
  {
   "cell_type": "code",
   "execution_count": 128,
   "id": "38b503be-013b-4c9d-886d-9a84ef3e0506",
   "metadata": {},
   "outputs": [
    {
     "name": "stdout",
     "output_type": "stream",
     "text": [
      "my name is keerthana\n",
      "\n"
     ]
    }
   ],
   "source": [
    "#now using file.readline() -\n",
    "\n",
    "f = open(\"file.txt\", \"r\")\n",
    "print(f.readline()) # it reads only one line"
   ]
  },
  {
   "cell_type": "code",
   "execution_count": 142,
   "id": "5321c63d-d28d-4d98-b7fe-ad4c51890dfe",
   "metadata": {},
   "outputs": [
    {
     "name": "stdout",
     "output_type": "stream",
     "text": [
      "my name is keerthana\n",
      "I am happy women\n",
      "I love playing cricket\n",
      "I love music\n",
      "\n"
     ]
    }
   ],
   "source": [
    "#Now using file.read()\n",
    "f = open(\"file.txt\", \"r\")\n",
    "print(f.read())"
   ]
  },
  {
   "cell_type": "code",
   "execution_count": null,
   "id": "7b14cebc-0960-4472-87dd-32f0ae540e70",
   "metadata": {},
   "outputs": [],
   "source": [
    "# 22. What is the os module in Python used for in file handling?"
   ]
  },
  {
   "cell_type": "code",
   "execution_count": null,
   "id": "f5ee36e8-576d-450b-8d0e-b2ef6bf3813a",
   "metadata": {},
   "outputs": [],
   "source": [
    "#A. The os module in Python provides a wide range of functions to interact with the operating system. \n",
    "# It is particularly useful in file handling because it allows to perform operations\n",
    "# such as creating, deleting, renaming, and finding files and directories."
   ]
  },
  {
   "cell_type": "code",
   "execution_count": 144,
   "id": "49271756-1619-422c-b454-16c092545e00",
   "metadata": {},
   "outputs": [
    {
     "name": "stdout",
     "output_type": "stream",
     "text": [
      "True\n"
     ]
    }
   ],
   "source": [
    "#1. To check whether a file exist\n",
    "import os\n",
    "print(os.path.exists(\"example.txt\")) "
   ]
  },
  {
   "cell_type": "code",
   "execution_count": 150,
   "id": "4fae7bc9-e1b7-44da-941b-c2a2117a1f75",
   "metadata": {},
   "outputs": [],
   "source": [
    "#2. renaming the file\n",
    "os.rename(\"ajay.txt\", \"keerthi.txt\")  #name changed"
   ]
  },
  {
   "cell_type": "code",
   "execution_count": 152,
   "id": "29a72a9c-7b06-42a2-8a07-0804b467844b",
   "metadata": {},
   "outputs": [],
   "source": [
    "#3. delete the file\n",
    "os.remove(\"keerthi.txt\")"
   ]
  },
  {
   "cell_type": "code",
   "execution_count": 154,
   "id": "a42c0eca-a3c4-4f23-9536-f4e8658cd41d",
   "metadata": {},
   "outputs": [
    {
     "name": "stdout",
     "output_type": "stream",
     "text": [
      "False\n"
     ]
    }
   ],
   "source": [
    "#checking\n",
    "import os\n",
    "print(os.path.exists(\"keerthi.txt\")) "
   ]
  },
  {
   "cell_type": "code",
   "execution_count": 156,
   "id": "94c669c2-0a06-4544-a1d6-43d2cc7fc036",
   "metadata": {},
   "outputs": [],
   "source": [
    "#4. creating a directory\n",
    "os.mkdir(\"new_files\")"
   ]
  },
  {
   "cell_type": "code",
   "execution_count": 158,
   "id": "4bb4c873-b2f0-4381-b292-168adcdbaf80",
   "metadata": {},
   "outputs": [
    {
     "name": "stdout",
     "output_type": "stream",
     "text": [
      "True\n"
     ]
    }
   ],
   "source": [
    "#checking\n",
    "import os\n",
    "print(os.path.exists(\"new_files\")) "
   ]
  },
  {
   "cell_type": "code",
   "execution_count": 162,
   "id": "dc83dda4-936a-4b00-b241-e56c3ad70b0f",
   "metadata": {},
   "outputs": [],
   "source": [
    "#5. Removing the directory\n",
    "import os\n",
    "os.rmdir(\"new_files\")"
   ]
  },
  {
   "cell_type": "code",
   "execution_count": 164,
   "id": "ab17e0db-8428-4dc6-a684-461ccaae96ef",
   "metadata": {},
   "outputs": [
    {
     "name": "stdout",
     "output_type": "stream",
     "text": [
      "False\n"
     ]
    }
   ],
   "source": [
    "#checking\n",
    "import os\n",
    "print(os.path.exists(\"new_files\")) "
   ]
  },
  {
   "cell_type": "code",
   "execution_count": 166,
   "id": "c7363924-0879-4e3a-b2dc-3625d1ebac9a",
   "metadata": {},
   "outputs": [
    {
     "name": "stdout",
     "output_type": "stream",
     "text": [
      "15\n"
     ]
    }
   ],
   "source": [
    "#6. list files and directories\n",
    "print(os.path.getsize(\"keerthi2.txt\")) "
   ]
  },
  {
   "cell_type": "code",
   "execution_count": 172,
   "id": "883ffdce-4096-4cbf-8293-dcf36a7acf2f",
   "metadata": {},
   "outputs": [
    {
     "name": "stdout",
     "output_type": "stream",
     "text": [
      "['file.txt', 'example2.txt', 'Untitled.ipynb', 'Assignment', 'Exceptional handling', 'File handling.ipynb', 'Reading and writing.ipynb', '.ipynb_checkpoints', 'Theory Files, exceptional handling assignment.ipynb', 'keerthi2.txt']\n"
     ]
    }
   ],
   "source": [
    "#7. Listing all files and folders in directory\n",
    "print(os.listdir(\".\"))"
   ]
  },
  {
   "cell_type": "code",
   "execution_count": null,
   "id": "88a6bdc2-b581-4569-a2ce-9fd7dbc15a1a",
   "metadata": {},
   "outputs": [],
   "source": [
    "# 24. How do you raise an exception manually in Python?"
   ]
  },
  {
   "cell_type": "code",
   "execution_count": 177,
   "id": "ccce3ec1-0d63-4740-a883-35690c420d44",
   "metadata": {},
   "outputs": [],
   "source": [
    "#lets take an example of mentioning the salary in an organization\n",
    "#the salary should not be less than zero and more than 300000000\n",
    "#example code\n",
    "\n",
    "def validate_salary(salary):\n",
    "    if salary<=0:\n",
    "        print(\"negative salary is not accepted\")\n",
    "    elif salary>= 300000000:\n",
    "        print(\"salary is unexpected\")\n",
    "    else:\n",
    "        print(\"salary is valid\")"
   ]
  },
  {
   "cell_type": "code",
   "execution_count": 179,
   "id": "9d16fdd5-5e11-47a5-9c66-9e2957f32193",
   "metadata": {},
   "outputs": [
    {
     "name": "stdout",
     "output_type": "stream",
     "text": [
      "salary is valid\n"
     ]
    }
   ],
   "source": [
    "validate_salary(3000)"
   ]
  },
  {
   "cell_type": "code",
   "execution_count": 181,
   "id": "155b4630-2983-4fb3-909d-4fdc39ed888b",
   "metadata": {},
   "outputs": [
    {
     "name": "stdout",
     "output_type": "stream",
     "text": [
      "negative salary is not accepted\n"
     ]
    }
   ],
   "source": [
    "validate_salary(-20000)"
   ]
  },
  {
   "cell_type": "code",
   "execution_count": 185,
   "id": "90673190-3bd5-4a32-b30a-c93f11f43e77",
   "metadata": {},
   "outputs": [
    {
     "name": "stdout",
     "output_type": "stream",
     "text": [
      "salary is unexpected\n"
     ]
    }
   ],
   "source": [
    "validate_salary(400000000)"
   ]
  },
  {
   "cell_type": "code",
   "execution_count": 195,
   "id": "ecb66ac5-a160-4deb-bfad-5092f975f3b8",
   "metadata": {},
   "outputs": [],
   "source": [
    "#now create a custom exception class\n",
    "\n",
    "class validatesalary(Exception): #creating an exception class, exception class have all the exceptions in it\n",
    "    def __init__(self,msg):\n",
    "        self.msg = msg"
   ]
  },
  {
   "cell_type": "code",
   "execution_count": 197,
   "id": "006ae603-6b13-49c4-8d58-df6fde79d3be",
   "metadata": {},
   "outputs": [],
   "source": [
    "def validate_salary(salary):\n",
    "    if salary<=0:\n",
    "        raise validatesalary(\"negative salary is not accepted\")\n",
    "    elif salary>= 300000000:\n",
    "        raise validatesalary(\"salary is unexpected\")\n",
    "    else:\n",
    "        raise validatesalary(\"salary is valid\")"
   ]
  },
  {
   "cell_type": "code",
   "execution_count": 199,
   "id": "15452d7b-a96d-4568-94bb-72e6668759e9",
   "metadata": {},
   "outputs": [
    {
     "name": "stdin",
     "output_type": "stream",
     "text": [
      "enter your salary 20000\n"
     ]
    },
    {
     "name": "stdout",
     "output_type": "stream",
     "text": [
      "salary is valid\n"
     ]
    }
   ],
   "source": [
    "#output 1\n",
    "try:\n",
    "    salary = int(input(\"enter your salary\"))\n",
    "    validate_salary(salary)\n",
    "\n",
    "except validatesalary as e:\n",
    "    print(e)"
   ]
  },
  {
   "cell_type": "code",
   "execution_count": 201,
   "id": "840850d0-b69a-4397-b3a8-42cbf335740b",
   "metadata": {},
   "outputs": [
    {
     "name": "stdin",
     "output_type": "stream",
     "text": [
      "enter your salary 20000000000\n"
     ]
    },
    {
     "name": "stdout",
     "output_type": "stream",
     "text": [
      "salary is unexpected\n"
     ]
    }
   ],
   "source": [
    "#output 2\n",
    "try:\n",
    "    salary = int(input(\"enter your salary\"))\n",
    "    validate_salary(salary)\n",
    "\n",
    "except validatesalary as e:\n",
    "    print(e)"
   ]
  },
  {
   "cell_type": "code",
   "execution_count": null,
   "id": "5a3313f6-c5a8-4b36-bc94-aca5971ddd0e",
   "metadata": {},
   "outputs": [],
   "source": []
  }
 ],
 "metadata": {
  "kernelspec": {
   "display_name": "Python 3 (ipykernel)",
   "language": "python",
   "name": "python3"
  },
  "language_info": {
   "codemirror_mode": {
    "name": "ipython",
    "version": 3
   },
   "file_extension": ".py",
   "mimetype": "text/x-python",
   "name": "python",
   "nbconvert_exporter": "python",
   "pygments_lexer": "ipython3",
   "version": "3.12.7"
  }
 },
 "nbformat": 4,
 "nbformat_minor": 5
}
